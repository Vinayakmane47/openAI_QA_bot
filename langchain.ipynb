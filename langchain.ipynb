{
 "cells": [
  {
   "cell_type": "code",
   "execution_count": 62,
   "metadata": {},
   "outputs": [],
   "source": [
    "from langchain.llms import OpenAI\n",
    "import os ,sys\n"
   ]
  },
  {
   "cell_type": "code",
   "execution_count": 63,
   "metadata": {},
   "outputs": [],
   "source": [
    "os.environ[\"OPEN_API_KEY\"] = \"\""
   ]
  },
  {
   "cell_type": "code",
   "execution_count": 64,
   "metadata": {},
   "outputs": [],
   "source": [
    "llm = OpenAI(openai_api_key=os.environ[\"OPEN_API_KEY\"] ,temperature=0.6)"
   ]
  },
  {
   "cell_type": "code",
   "execution_count": null,
   "metadata": {},
   "outputs": [],
   "source": []
  },
  {
   "cell_type": "code",
   "execution_count": 65,
   "metadata": {},
   "outputs": [
    {
     "name": "stdout",
     "output_type": "stream",
     "text": [
      "\n",
      "\n",
      "Mumbai does not have a capital as it is a city in the state of Maharashtra, India. The capital of Maharashtra is Mumbai.\n"
     ]
    }
   ],
   "source": [
    "text = \"what is capital of mumbai\" \n",
    "\n",
    "print(llm.predict(text))"
   ]
  },
  {
   "cell_type": "code",
   "execution_count": 9,
   "metadata": {},
   "outputs": [],
   "source": [
    "os.environ[\"HUGGINGFACEHUB_API_TOKEN\"] = \"\""
   ]
  },
  {
   "cell_type": "code",
   "execution_count": 11,
   "metadata": {},
   "outputs": [
    {
     "name": "stderr",
     "output_type": "stream",
     "text": [
      "/Users/vinayak/AI/projects/Langchain/venv/lib/python3.9/site-packages/tqdm/auto.py:21: TqdmWarning: IProgress not found. Please update jupyter and ipywidgets. See https://ipywidgets.readthedocs.io/en/stable/user_install.html\n",
      "  from .autonotebook import tqdm as notebook_tqdm\n"
     ]
    }
   ],
   "source": [
    "from langchain import HuggingFaceHub \n",
    "\n",
    "llm_huggingface = HuggingFaceHub(repo_id = 'google/flan-t5-large' , model_kwargs={\"temperature\":0 , \"max_length\":64})"
   ]
  },
  {
   "cell_type": "code",
   "execution_count": 12,
   "metadata": {},
   "outputs": [
    {
     "data": {
      "text/plain": [
       "'Moscow'"
      ]
     },
     "execution_count": 12,
     "metadata": {},
     "output_type": "execute_result"
    }
   ],
   "source": [
    "output = llm_huggingface.predict(\"can you tell me capital if russia\")\n",
    "output"
   ]
  },
  {
   "cell_type": "code",
   "execution_count": 14,
   "metadata": {},
   "outputs": [
    {
     "data": {
      "text/plain": [
       "'chatgpt i love you i love you i love you i love you i love you i love you i love you i love you i love you i love you i love you i love you i love you i love you i love'"
      ]
     },
     "execution_count": 14,
     "metadata": {},
     "output_type": "execute_result"
    }
   ],
   "source": [
    "output = llm_huggingface.predict(\"can you write a poem about chatgpt\")\n",
    "output"
   ]
  },
  {
   "cell_type": "code",
   "execution_count": 16,
   "metadata": {},
   "outputs": [
    {
     "data": {
      "text/plain": [
       "'Tell me the capital of this INDIA'"
      ]
     },
     "execution_count": 16,
     "metadata": {},
     "output_type": "execute_result"
    }
   ],
   "source": [
    "## Prompt Templates\n",
    "\n",
    "from langchain.prompts import PromptTemplate \n",
    "\n",
    "\n",
    "prompt_template = PromptTemplate(input_variables=[\"country\"],\n",
    "               template=\"Tell me the capital of this {country}\")\n",
    "\n",
    "prompt_template.format(country=\"INDIA\")"
   ]
  },
  {
   "cell_type": "code",
   "execution_count": 19,
   "metadata": {},
   "outputs": [
    {
     "data": {
      "text/plain": [
       "'\\n\\nThe capital of India is New Delhi.'"
      ]
     },
     "execution_count": 19,
     "metadata": {},
     "output_type": "execute_result"
    }
   ],
   "source": [
    "from langchain.chains import LLMChain\n",
    "\n",
    "chain = LLMChain(llm=llm , prompt=prompt_template)\n",
    "chain.run(\"INDIA\")"
   ]
  },
  {
   "cell_type": "markdown",
   "metadata": {},
   "source": [
    "## Combining multiple chains"
   ]
  },
  {
   "cell_type": "code",
   "execution_count": 22,
   "metadata": {},
   "outputs": [],
   "source": [
    "capital_prompt = PromptTemplate(input_variables=['country'],\n",
    "                                template=\"Please tell me capital of the {country}\")\n",
    "\n",
    "capital_chain = LLMChain(llm=llm, prompt=capital_prompt)\n",
    "capital_chain.run(\"INDIA\")\n",
    "\n",
    "\n",
    "famous_template = PromptTemplate(input_variables=['capital'],\n",
    "                                 template=\"Suggest me some amazing places to visit in {capital}\")\n",
    "\n",
    "famous_chain = LLMChain(llm=llm , prompt=famous_template)\n",
    "\n"
   ]
  },
  {
   "cell_type": "code",
   "execution_count": 24,
   "metadata": {},
   "outputs": [
    {
     "data": {
      "text/plain": [
       "\" Here are some amazing places to visit in Delhi:\\n\\n1. Red Fort - a UNESCO World Heritage Site and the iconic symbol of the city, built by Mughal Emperor Shah Jahan in the 17th century.\\n\\n2. Qutub Minar - another UNESCO World Heritage Site, this 73-meter tall minaret is the tallest brick minaret in the world.\\n\\n3. Humayun's Tomb - a magnificent Mughal mausoleum and the final resting place of Emperor Humayun.\\n\\n4. India Gate - a war memorial and popular picnic spot, built in memory of Indian soldiers who died in World War I.\\n\\n5. Lotus Temple - a beautiful and serene Bahá'í House of Worship, known for its distinctive lotus-shaped architecture.\\n\\n6. Jama Masjid - one of the largest mosques in India, built by Mughal Emperor Shah Jahan in the 17th century.\\n\\n7. Chandni Chowk - a bustling market in Old Delhi, known for its narrow lanes, street food, and traditional bazaars.\\n\\n8. Hauz Khas Village - a trendy neighborhood with a mix of ancient ruins, art galleries, boutiques, and restaurants.\\n\\n9. Akshardham Temple - a modern and grand temple complex\""
      ]
     },
     "execution_count": 24,
     "metadata": {},
     "output_type": "execute_result"
    }
   ],
   "source": [
    "from langchain.chains import SimpleSequentialChain \n",
    "chain = SimpleSequentialChain(chains=[capital_chain, famous_chain])\n",
    "chain.run(\"INDIA\")"
   ]
  },
  {
   "cell_type": "markdown",
   "metadata": {},
   "source": [
    "### Sequential Chain"
   ]
  },
  {
   "cell_type": "code",
   "execution_count": 33,
   "metadata": {},
   "outputs": [],
   "source": [
    "capital_template=PromptTemplate(input_variables=['country'],\n",
    "template=\"Please tell me the capital of the {country}\")\n",
    "\n",
    "capital_chain=LLMChain(llm=llm,prompt=capital_template,output_key=\"capital\")\n",
    "\n",
    "\n",
    "famous_template=PromptTemplate(input_variables=['capital'],\n",
    "template=\"Suggest me some amazing places to visit in {capital}\")\n",
    "\n",
    "famous_chain=LLMChain(llm=llm,prompt=famous_template,output_key=\"places\")\n",
    "\n",
    "\n"
   ]
  },
  {
   "cell_type": "code",
   "execution_count": 34,
   "metadata": {},
   "outputs": [
    {
     "data": {
      "text/plain": [
       "{'country': 'INDIA',\n",
       " 'capital': '\\n\\nThe capital of India is New Delhi.',\n",
       " 'places': \" Here are some amazing places to visit in and around Delhi:\\n\\n1. Red Fort: This iconic monument is a must-visit for its stunning architecture and historical significance. It was the main residence of the Mughal emperors for nearly 200 years.\\n\\n2. Jama Masjid: Located near the Red Fort, this is the largest mosque in India and a beautiful example of Mughal architecture.\\n\\n3. India Gate: A war memorial and popular picnic spot, India Gate is a must-visit for its grandeur and the beautiful lawns surrounding it.\\n\\n4. Qutub Minar: This 73-meter tall tower is the tallest brick minaret in the world and a UNESCO World Heritage Site.\\n\\n5. Humayun’s Tomb: Another UNESCO World Heritage Site, this tomb is a beautiful example of Mughal architecture and is said to have inspired the Taj Mahal.\\n\\n6. Lotus Temple: This Bahá'í House of Worship is known for its unique lotus-shaped architecture and is a peaceful place for meditation and reflection.\\n\\n7. Akshardham Temple: This modern temple complex is known for its stunning architecture, beautiful gardens, and cultural exhibitions.\\n\\n8. Chandni Chowk: This bustling market in Old Delhi is a sensory overload with its\"}"
      ]
     },
     "execution_count": 34,
     "metadata": {},
     "output_type": "execute_result"
    }
   ],
   "source": [
    "\n",
    "from langchain.chains import SequentialChain\n",
    "chain=SequentialChain(chains=[capital_chain,famous_chain],\n",
    "input_variables=['country'],\n",
    "output_variables=['capital',\"places\"])\n",
    "\n"
   ]
  },
  {
   "cell_type": "code",
   "execution_count": 36,
   "metadata": {},
   "outputs": [
    {
     "data": {
      "text/plain": [
       "{'country': 'INDIA',\n",
       " 'capital': '\\n\\nThe capital of India is New Delhi.',\n",
       " 'places': \" It is a bustling city with a rich history and culture. Here are some amazing places to visit in New Delhi:\\n\\n1. Red Fort - This iconic monument is a symbol of India's independence and is a must-visit for its stunning architecture and historical significance.\\n\\n2. Qutub Minar - This 73-meter high tower is a UNESCO World Heritage Site and is the tallest minaret in India. It is surrounded by beautiful gardens and is a popular spot for tourists.\\n\\n3. India Gate - This war memorial is a popular spot for picnics and evening strolls. It is a tribute to the Indian soldiers who lost their lives in World War I.\\n\\n4. Humayun's Tomb - This stunning mausoleum is a blend of Persian and Mughal architecture and is the final resting place of Mughal Emperor Humayun.\\n\\n5. Lotus Temple - This beautiful temple, shaped like a lotus flower, is a popular attraction for its unique architecture and serene atmosphere.\\n\\n6. Akshardham Temple - This magnificent temple complex is a blend of traditional Indian architecture and modern technology. It also has a musical fountain show that is a must-see.\\n\\n7. Chandni Chowk - This bustling market in Old Delhi is a paradise for food lovers\"}"
      ]
     },
     "execution_count": 36,
     "metadata": {},
     "output_type": "execute_result"
    }
   ],
   "source": [
    "chain({\"country\":\"INDIA\"})"
   ]
  },
  {
   "cell_type": "code",
   "execution_count": null,
   "metadata": {},
   "outputs": [],
   "source": []
  },
  {
   "cell_type": "markdown",
   "metadata": {},
   "source": [
    "## Chatmodels with ChatOpenAI"
   ]
  },
  {
   "cell_type": "code",
   "execution_count": 51,
   "metadata": {},
   "outputs": [],
   "source": [
    "from langchain.chat_models import ChatOpenAI\n",
    "from langchain.schema import HumanMessage, SystemMessage , AIMessage\n",
    "\n",
    "chatllm=ChatOpenAI(openai_api_key=os.environ[\"OPEN_API_KEY\"],temperature=0.6,model='gpt-3.5-turbo')\n"
   ]
  },
  {
   "cell_type": "code",
   "execution_count": 52,
   "metadata": {},
   "outputs": [
    {
     "data": {
      "text/plain": [
       "AIMessage(content='1. \"AI: Artificial Intelligence or Awkwardly Incompetent?\"\\n2. \"Why did the AI break up with its computer? It couldn\\'t handle its emotional baggage.\"\\n3. \"AI: Making decisions faster than you can say \\'wait, what?\\'\"\\n4. \"I asked my AI assistant for a joke, and it replied, \\'I\\'m sorry, Dave, I\\'m afraid I can\\'t do that.\\'\"\\n5. \"AI: It\\'s like having a really smart pet that never poops on the carpet.\"\\n6. \"Why did the AI go to therapy? It had too many unresolved issues with its creator.\"\\n7. \"AI: Making us question if we\\'re the real brains behind the operation.\"\\n8. \"My AI assistant told me a joke, but I think it needs to work on its delivery algorithm.\"\\n9. \"AI: Making us feel both amazed and slightly terrified of the future.\"\\n10. \"Why did the AI cross the road? To optimize its route for maximum efficiency!\"', response_metadata={'token_usage': {'completion_tokens': 207, 'prompt_tokens': 27, 'total_tokens': 234}, 'model_name': 'gpt-3.5-turbo', 'system_fingerprint': 'fp_3b956da36b', 'finish_reason': 'stop', 'logprobs': None}, id='run-ff7b7072-5203-46e1-bdb9-c9567fcc836b-0')"
      ]
     },
     "execution_count": 52,
     "metadata": {},
     "output_type": "execute_result"
    }
   ],
   "source": [
    "chatllm([\n",
    "SystemMessage(content=\"Yor are a comedian AI assitant\"),\n",
    "HumanMessage(content=\"Please provide some comedy punchlines on AI\")\n",
    "])"
   ]
  },
  {
   "cell_type": "markdown",
   "metadata": {},
   "source": [
    "## Prompt Template + LLM + Output parsrs"
   ]
  },
  {
   "cell_type": "code",
   "execution_count": 44,
   "metadata": {},
   "outputs": [],
   "source": [
    "from langchain.chat_models import ChatOpenAI \n",
    "from langchain.prompts.chat import ChatPromptTemplate \n",
    "from langchain.schema import BaseOutputParser \n",
    "\n"
   ]
  },
  {
   "cell_type": "code",
   "execution_count": 54,
   "metadata": {},
   "outputs": [],
   "source": [
    "class Commaseperatedoutput(BaseOutputParser):\n",
    "    def parse(self,text:str):\n",
    "        return text.strip().split(\",\")\n",
    "    "
   ]
  },
  {
   "cell_type": "code",
   "execution_count": 57,
   "metadata": {},
   "outputs": [],
   "source": [
    "template=\"Your are a helpful assistant. When the use given any input , you should generate 5 words synonyms in a comma seperated list\"\n",
    "human_template=\"{text}\"\n",
    "chatprompt=ChatPromptTemplate.from_messages([\n",
    "    (\"system\",template),\n",
    "    (\"human\",human_template)\n",
    "\n",
    "\n",
    "])"
   ]
  },
  {
   "cell_type": "code",
   "execution_count": 58,
   "metadata": {},
   "outputs": [],
   "source": [
    "chain=chatprompt|chatllm|Commaseperatedoutput()"
   ]
  },
  {
   "cell_type": "code",
   "execution_count": 59,
   "metadata": {},
   "outputs": [
    {
     "data": {
      "text/plain": [
       "['smart', ' clever', ' bright', ' brilliant', ' astute']"
      ]
     },
     "execution_count": 59,
     "metadata": {},
     "output_type": "execute_result"
    }
   ],
   "source": [
    "chain.invoke({\"text\":\"intelligent\"})"
   ]
  }
 ],
 "metadata": {
  "kernelspec": {
   "display_name": "Python 3",
   "language": "python",
   "name": "python3"
  },
  "language_info": {
   "codemirror_mode": {
    "name": "ipython",
    "version": 3
   },
   "file_extension": ".py",
   "mimetype": "text/x-python",
   "name": "python",
   "nbconvert_exporter": "python",
   "pygments_lexer": "ipython3",
   "version": "3.9.19"
  }
 },
 "nbformat": 4,
 "nbformat_minor": 2
}
